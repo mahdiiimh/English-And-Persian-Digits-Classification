{
 "cells": [
  {
   "cell_type": "markdown",
   "metadata": {},
   "source": [
    "### Download Dataset and some preprocessing"
   ]
  },
  {
   "cell_type": "code",
   "execution_count": 1,
   "metadata": {
    "colab": {
     "base_uri": "https://localhost:8080/"
    },
    "id": "shK3j17ipczG",
    "outputId": "d16c4303-d685-431c-834e-beeb31617ed2"
   },
   "outputs": [
    {
     "name": "stdout",
     "output_type": "stream",
     "text": [
      "--2024-06-16 10:45:14--  https://raw.githubusercontent.com/Alireza-Akhavan/SRU-deeplearning-workshop/master/dataset.py\n",
      "Resolving raw.githubusercontent.com (raw.githubusercontent.com)... 185.199.108.133, 185.199.109.133, 185.199.111.133, ...\n",
      "Connecting to raw.githubusercontent.com (raw.githubusercontent.com)|185.199.108.133|:443... connected.\n",
      "HTTP request sent, awaiting response... 200 OK\n",
      "Length: 917 [text/plain]\n",
      "Saving to: ‘dataset.py’\n",
      "\n",
      "dataset.py          100%[===================>]     917  --.-KB/s    in 0s      \n",
      "\n",
      "2024-06-16 10:45:15 (37.2 MB/s) - ‘dataset.py’ saved [917/917]\n",
      "\n",
      "--2024-06-16 10:45:15--  https://github.com/Alireza-Akhavan/SRU-deeplearning-workshop/raw/master/dataset/Data_hoda_full.mat\n",
      "Resolving github.com (github.com)... 20.27.177.113\n",
      "Connecting to github.com (github.com)|20.27.177.113|:443... connected.\n",
      "HTTP request sent, awaiting response... 301 Moved Permanently\n",
      "Location: https://github.com/Alireza-Akhavan/deeplearning-tensorflow2-notebooks/raw/master/dataset/Data_hoda_full.mat [following]\n",
      "--2024-06-16 10:45:16--  https://github.com/Alireza-Akhavan/deeplearning-tensorflow2-notebooks/raw/master/dataset/Data_hoda_full.mat\n",
      "Reusing existing connection to github.com:443.\n",
      "HTTP request sent, awaiting response... 302 Found\n",
      "Location: https://raw.githubusercontent.com/Alireza-Akhavan/deeplearning-tensorflow2-notebooks/master/dataset/Data_hoda_full.mat [following]\n",
      "--2024-06-16 10:45:16--  https://raw.githubusercontent.com/Alireza-Akhavan/deeplearning-tensorflow2-notebooks/master/dataset/Data_hoda_full.mat\n",
      "Resolving raw.githubusercontent.com (raw.githubusercontent.com)... 185.199.111.133, 185.199.108.133, 185.199.110.133, ...\n",
      "Connecting to raw.githubusercontent.com (raw.githubusercontent.com)|185.199.111.133|:443... connected.\n",
      "HTTP request sent, awaiting response... 200 OK\n",
      "Length: 3989009 (3.8M) [application/octet-stream]\n",
      "Saving to: ‘dataset/Data_hoda_full.mat’\n",
      "\n",
      "Data_hoda_full.mat  100%[===================>]   3.80M  14.6MB/s    in 0.3s    \n",
      "\n",
      "2024-06-16 10:45:17 (14.6 MB/s) - ‘dataset/Data_hoda_full.mat’ saved [3989009/3989009]\n",
      "\n"
     ]
    }
   ],
   "source": [
    "!wget https://raw.githubusercontent.com/Alireza-Akhavan/SRU-deeplearning-workshop/master/dataset.py\n",
    "!mkdir dataset\n",
    "!wget https://github.com/Alireza-Akhavan/SRU-deeplearning-workshop/raw/master/dataset/Data_hoda_full.mat -P dataset"
   ]
  },
  {
   "cell_type": "markdown",
   "metadata": {},
   "source": [
    "## Import Libraries"
   ]
  },
  {
   "cell_type": "code",
   "execution_count": 4,
   "metadata": {
    "id": "8VahB9kJpn1f"
   },
   "outputs": [],
   "source": [
    "import numpy as np\n",
    "import pandas as pd\n",
    "import matplotlib.pyplot as plt\n",
    "import keras\n",
    "import tensorflow as tf\n",
    "from keras import layers\n",
    "from keras import models\n",
    "from keras.datasets import mnist\n",
    "from keras.utils import to_categorical\n",
    "from tensorflow.keras.layers import Conv2D, MaxPooling2D, Concatenate, Input, Dropout, Dense, Flatten, GlobalAveragePooling2D\n",
    "from sklearn.metrics import classification_report,confusion_matrix\n",
    "import seaborn as sns\n",
    "from dataset import load_hoda\n",
    "import cv2"
   ]
  },
  {
   "cell_type": "markdown",
   "metadata": {},
   "source": [
    "## loading images and splitting it"
   ]
  },
  {
   "cell_type": "code",
   "execution_count": 5,
   "metadata": {
    "id": "-_GSKL1IqRkj"
   },
   "outputs": [],
   "source": [
    "X_train, y_train, X_test, y_test = load_hoda(\n",
    "                                            training_sample_size=10000,\n",
    "                                            test_sample_size=2000,size=28)"
   ]
  },
  {
   "cell_type": "markdown",
   "metadata": {},
   "source": [
    "## Normalization and preprocessing"
   ]
  },
  {
   "cell_type": "code",
   "execution_count": 6,
   "metadata": {
    "id": "WljpQdLnqRiC"
   },
   "outputs": [],
   "source": [
    "X_train = X_train.astype('float32')\n",
    "X_test = X_test.astype('float32')\n",
    "X_train /= 255\n",
    "X_test /= 255"
   ]
  },
  {
   "cell_type": "code",
   "execution_count": 7,
   "metadata": {
    "id": "HbUY3sgbqRf9"
   },
   "outputs": [],
   "source": [
    "X_train = X_train.reshape(-1,28,28,1)\n",
    "X_test = X_test.reshape(-1,28,28,1)"
   ]
  },
  {
   "cell_type": "markdown",
   "metadata": {},
   "source": [
    "## Label One-Hot Encoding "
   ]
  },
  {
   "cell_type": "code",
   "execution_count": 8,
   "metadata": {
    "id": "RMr3hNjNqRd5"
   },
   "outputs": [],
   "source": [
    "y_train = keras.utils.to_categorical(y_train)\n",
    "y_test = keras.utils.to_categorical(y_test)"
   ]
  },
  {
   "cell_type": "markdown",
   "metadata": {},
   "source": [
    "## Model 1 ( CNN_1)"
   ]
  },
  {
   "cell_type": "code",
   "execution_count": 13,
   "metadata": {
    "id": "0KlhGNXNqRbK"
   },
   "outputs": [],
   "source": [
    "cnn_Model = tf.keras.Sequential([\n",
    "        tf.keras.layers.InputLayer(input_shape=(28, 28, 1)),\n",
    "\n",
    "\n",
    "        tf.keras.layers.Conv2D(filters=16, kernel_size=(3, 3), activation='relu'),\n",
    "        tf.keras.layers.BatchNormalization(),\n",
    "        tf.keras.layers.MaxPool2D(pool_size=(2, 2)),\n",
    "        tf.keras.layers.Dropout(0.25),\n",
    "\n",
    "        tf.keras.layers.Conv2D(filters=32, kernel_size=(5, 5), activation='relu'),\n",
    "        tf.keras.layers.BatchNormalization(),\n",
    "        tf.keras.layers.MaxPool2D(pool_size=(2, 2)),\n",
    "        tf.keras.layers.Dropout(0.25),\n",
    "\n",
    "        tf.keras.layers.Flatten(),\n",
    "\n",
    "        tf.keras.layers.Dense(128, activation='relu'),\n",
    "        tf.keras.layers.BatchNormalization(),\n",
    "        tf.keras.layers.Dropout(0.5),\n",
    "\n",
    "        tf.keras.layers.Dense(10, activation='softmax')\n",
    "    ])"
   ]
  },
  {
   "cell_type": "markdown",
   "metadata": {},
   "source": [
    "## Compile of Model 1"
   ]
  },
  {
   "cell_type": "code",
   "execution_count": 14,
   "metadata": {
    "id": "rKSpuozrqRYS"
   },
   "outputs": [],
   "source": [
    "cnn_Model.compile(optimizer='adam', loss='categorical_crossentropy', metrics=['accuracy'])\n"
   ]
  },
  {
   "cell_type": "markdown",
   "metadata": {},
   "source": [
    "## Train of Model 1 "
   ]
  },
  {
   "cell_type": "code",
   "execution_count": 15,
   "metadata": {
    "colab": {
     "base_uri": "https://localhost:8080/"
    },
    "id": "jlM01zxqqRVm",
    "outputId": "b005b0eb-6343-4537-c27a-b16fa8d272f0"
   },
   "outputs": [
    {
     "name": "stdout",
     "output_type": "stream",
     "text": [
      "Epoch 1/20\n",
      "250/250 [==============================] - 10s 30ms/step - loss: 0.6603 - accuracy: 0.7958 - val_loss: 3.2251 - val_accuracy: 0.2075\n",
      "Epoch 2/20\n",
      "250/250 [==============================] - 8s 33ms/step - loss: 0.2206 - accuracy: 0.9271 - val_loss: 0.2676 - val_accuracy: 0.9195\n",
      "Epoch 3/20\n",
      "250/250 [==============================] - 7s 27ms/step - loss: 0.1603 - accuracy: 0.9495 - val_loss: 0.0699 - val_accuracy: 0.9770\n",
      "Epoch 4/20\n",
      "250/250 [==============================] - 9s 34ms/step - loss: 0.1214 - accuracy: 0.9615 - val_loss: 0.0752 - val_accuracy: 0.9725\n",
      "Epoch 5/20\n",
      "250/250 [==============================] - 7s 27ms/step - loss: 0.1057 - accuracy: 0.9651 - val_loss: 0.0544 - val_accuracy: 0.9850\n",
      "Epoch 6/20\n",
      "250/250 [==============================] - 8s 34ms/step - loss: 0.0938 - accuracy: 0.9707 - val_loss: 0.0476 - val_accuracy: 0.9835\n",
      "Epoch 7/20\n",
      "250/250 [==============================] - 7s 26ms/step - loss: 0.0854 - accuracy: 0.9745 - val_loss: 0.0362 - val_accuracy: 0.9890\n",
      "Epoch 8/20\n",
      "250/250 [==============================] - 8s 33ms/step - loss: 0.0752 - accuracy: 0.9762 - val_loss: 0.0328 - val_accuracy: 0.9895\n",
      "Epoch 9/20\n",
      "250/250 [==============================] - 7s 27ms/step - loss: 0.0693 - accuracy: 0.9761 - val_loss: 0.0298 - val_accuracy: 0.9905\n",
      "Epoch 10/20\n",
      "250/250 [==============================] - 8s 32ms/step - loss: 0.0600 - accuracy: 0.9790 - val_loss: 0.0405 - val_accuracy: 0.9845\n",
      "Epoch 11/20\n",
      "250/250 [==============================] - 7s 29ms/step - loss: 0.0583 - accuracy: 0.9806 - val_loss: 0.0357 - val_accuracy: 0.9865\n",
      "Epoch 12/20\n",
      "250/250 [==============================] - 8s 30ms/step - loss: 0.0573 - accuracy: 0.9811 - val_loss: 0.0232 - val_accuracy: 0.9925\n",
      "Epoch 13/20\n",
      "250/250 [==============================] - 8s 34ms/step - loss: 0.0553 - accuracy: 0.9826 - val_loss: 0.0275 - val_accuracy: 0.9925\n",
      "Epoch 14/20\n",
      "250/250 [==============================] - 7s 27ms/step - loss: 0.0460 - accuracy: 0.9856 - val_loss: 0.0290 - val_accuracy: 0.9915\n",
      "Epoch 15/20\n",
      "250/250 [==============================] - 8s 33ms/step - loss: 0.0471 - accuracy: 0.9840 - val_loss: 0.0215 - val_accuracy: 0.9925\n",
      "Epoch 16/20\n",
      "250/250 [==============================] - 7s 26ms/step - loss: 0.0419 - accuracy: 0.9872 - val_loss: 0.0288 - val_accuracy: 0.9910\n",
      "Epoch 17/20\n",
      "250/250 [==============================] - 8s 34ms/step - loss: 0.0385 - accuracy: 0.9871 - val_loss: 0.0224 - val_accuracy: 0.9910\n",
      "Epoch 18/20\n",
      "250/250 [==============================] - 7s 27ms/step - loss: 0.0400 - accuracy: 0.9871 - val_loss: 0.0224 - val_accuracy: 0.9940\n",
      "Epoch 19/20\n",
      "250/250 [==============================] - 8s 34ms/step - loss: 0.0383 - accuracy: 0.9881 - val_loss: 0.0254 - val_accuracy: 0.9905\n",
      "Epoch 20/20\n",
      "250/250 [==============================] - 7s 27ms/step - loss: 0.0397 - accuracy: 0.9866 - val_loss: 0.0172 - val_accuracy: 0.9930\n"
     ]
    },
    {
     "data": {
      "text/plain": [
       "<keras.src.callbacks.History at 0x7860490f8940>"
      ]
     },
     "execution_count": 15,
     "metadata": {},
     "output_type": "execute_result"
    }
   ],
   "source": [
    "cnn_Model.fit(X_train, y_train, batch_size=32, epochs=20,validation_split=0.2)"
   ]
  },
  {
   "cell_type": "markdown",
   "metadata": {},
   "source": [
    "## Evaluation of Model_1"
   ]
  },
  {
   "cell_type": "code",
   "execution_count": 18,
   "metadata": {
    "colab": {
     "base_uri": "https://localhost:8080/"
    },
    "id": "Y8tsLFg3sCFA",
    "outputId": "acbb0e69-ff89-4cce-cecf-4ae781e77ea6"
   },
   "outputs": [
    {
     "name": "stdout",
     "output_type": "stream",
     "text": [
      "63/63 [==============================] - 1s 8ms/step - loss: 0.0460 - accuracy: 0.9880\n"
     ]
    },
    {
     "data": {
      "text/plain": [
       "(0.04598511755466461, 0.9879999756813049)"
      ]
     },
     "execution_count": 18,
     "metadata": {},
     "output_type": "execute_result"
    }
   ],
   "source": [
    "loss, accuracy = cnn_Model.evaluate(X_test, y_test)\n",
    "loss, accuracy"
   ]
  },
  {
   "cell_type": "markdown",
   "metadata": {
    "id": "PeKrLLxctOe7"
   },
   "source": [
    "## Model 2 (CNN_2 or AlexNet)"
   ]
  },
  {
   "cell_type": "code",
   "execution_count": 25,
   "metadata": {
    "id": "PUwUbLvLtPWm"
   },
   "outputs": [],
   "source": [
    "alexNet_model = tf.keras.Sequential()\n",
    "\n",
    "# 1st Convolutional Layer\n",
    "alexNet_model.add(tf.keras.layers.Conv2D(filters=32, kernel_size=(3, 3), strides=(1, 1), activation='relu', input_shape=(28, 28, 1)))\n",
    "alexNet_model.add(tf.keras.layers.BatchNormalization())\n",
    "alexNet_model.add(tf.keras.layers.MaxPool2D(pool_size=(2, 2), strides=(2, 2)))\n",
    "\n",
    "# 2nd Convolutional Layer\n",
    "alexNet_model.add(tf.keras.layers.Conv2D(filters=64, kernel_size=(3, 3), padding='same', activation='relu'))\n",
    "alexNet_model.add(tf.keras.layers.BatchNormalization())\n",
    "alexNet_model.add(tf.keras.layers.MaxPool2D(pool_size=(2, 2), strides=(2, 2)))\n",
    "\n",
    "# 3rd Convolutional Layer\n",
    "alexNet_model.add(tf.keras.layers.Conv2D(filters=128, kernel_size=(3, 3), padding='same', activation='relu'))\n",
    "alexNet_model.add(tf.keras.layers.BatchNormalization())\n",
    "\n",
    "# 4th Convolutional Layer\n",
    "alexNet_model.add(tf.keras.layers.Conv2D(filters=128, kernel_size=(3, 3), padding='same', activation='relu'))\n",
    "alexNet_model.add(tf.keras.layers.BatchNormalization())\n",
    "\n",
    "# 5th Convolutional Layer\n",
    "alexNet_model.add(tf.keras.layers.Conv2D(filters=64, kernel_size=(3, 3), padding='same', activation='relu'))\n",
    "alexNet_model.add(tf.keras.layers.BatchNormalization())\n",
    "alexNet_model.add(tf.keras.layers.MaxPool2D(pool_size=(2, 2), strides=(2, 2)))\n",
    "\n",
    "# Flattening Layer\n",
    "alexNet_model.add(tf.keras.layers.Flatten())\n",
    "\n",
    "# 1st Fully Connected Layer\n",
    "alexNet_model.add(tf.keras.layers.Dense(1024, activation='relu'))\n",
    "alexNet_model.add(tf.keras.layers.BatchNormalization())\n",
    "alexNet_model.add(tf.keras.layers.Dropout(0.5))\n",
    "\n",
    "# 2nd Fully Connected Layer\n",
    "alexNet_model.add(tf.keras.layers.Dense(512, activation='relu'))\n",
    "alexNet_model.add(tf.keras.layers.BatchNormalization())\n",
    "alexNet_model.add(tf.keras.layers.Dropout(0.5))\n",
    "\n",
    "# Output Layer\n",
    "alexNet_model.add(tf.keras.layers.Dense(10, activation='softmax'))"
   ]
  },
  {
   "cell_type": "markdown",
   "metadata": {},
   "source": [
    "## Compile Model 2"
   ]
  },
  {
   "cell_type": "code",
   "execution_count": 26,
   "metadata": {
    "id": "5adovEUitRpr"
   },
   "outputs": [],
   "source": [
    "alexNet_model.compile(optimizer='adam',\n",
    "                      loss='categorical_crossentropy',\n",
    "                      metrics=['accuracy'])"
   ]
  },
  {
   "cell_type": "markdown",
   "metadata": {},
   "source": [
    "## Train Model 2"
   ]
  },
  {
   "cell_type": "code",
   "execution_count": 28,
   "metadata": {
    "colab": {
     "base_uri": "https://localhost:8080/"
    },
    "id": "46VJiriTtUMA",
    "outputId": "46831d74-65a7-495d-8dec-ad1d179ed24b"
   },
   "outputs": [
    {
     "name": "stdout",
     "output_type": "stream",
     "text": [
      "Epoch 1/20\n",
      "250/250 [==============================] - 33s 132ms/step - loss: 0.1369 - accuracy: 0.9630 - val_loss: 2.1942 - val_accuracy: 0.4325\n",
      "Epoch 2/20\n",
      "250/250 [==============================] - 33s 131ms/step - loss: 0.0931 - accuracy: 0.9730 - val_loss: 0.0609 - val_accuracy: 0.9840\n",
      "Epoch 3/20\n",
      "250/250 [==============================] - 36s 145ms/step - loss: 0.0493 - accuracy: 0.9845 - val_loss: 0.0328 - val_accuracy: 0.9895\n",
      "Epoch 4/20\n",
      "250/250 [==============================] - 34s 134ms/step - loss: 0.0432 - accuracy: 0.9860 - val_loss: 0.0368 - val_accuracy: 0.9895\n",
      "Epoch 5/20\n",
      "250/250 [==============================] - 34s 137ms/step - loss: 0.0389 - accuracy: 0.9875 - val_loss: 0.0266 - val_accuracy: 0.9915\n",
      "Epoch 6/20\n",
      "250/250 [==============================] - 33s 133ms/step - loss: 0.0414 - accuracy: 0.9876 - val_loss: 0.0319 - val_accuracy: 0.9900\n",
      "Epoch 7/20\n",
      "250/250 [==============================] - 33s 131ms/step - loss: 0.0337 - accuracy: 0.9889 - val_loss: 0.0285 - val_accuracy: 0.9900\n",
      "Epoch 8/20\n",
      "250/250 [==============================] - 34s 136ms/step - loss: 0.0364 - accuracy: 0.9885 - val_loss: 0.0187 - val_accuracy: 0.9950\n",
      "Epoch 9/20\n",
      "250/250 [==============================] - 34s 135ms/step - loss: 0.0301 - accuracy: 0.9914 - val_loss: 0.0228 - val_accuracy: 0.9930\n",
      "Epoch 10/20\n",
      "250/250 [==============================] - 34s 134ms/step - loss: 0.0248 - accuracy: 0.9924 - val_loss: 0.0567 - val_accuracy: 0.9805\n",
      "Epoch 11/20\n",
      "250/250 [==============================] - 35s 139ms/step - loss: 0.0282 - accuracy: 0.9912 - val_loss: 0.0461 - val_accuracy: 0.9895\n",
      "Epoch 12/20\n",
      "250/250 [==============================] - 33s 133ms/step - loss: 0.0302 - accuracy: 0.9909 - val_loss: 0.0385 - val_accuracy: 0.9895\n",
      "Epoch 13/20\n",
      "250/250 [==============================] - 35s 141ms/step - loss: 0.0210 - accuracy: 0.9940 - val_loss: 0.0136 - val_accuracy: 0.9950\n",
      "Epoch 14/20\n",
      "250/250 [==============================] - 33s 133ms/step - loss: 0.0119 - accuracy: 0.9961 - val_loss: 0.0167 - val_accuracy: 0.9975\n",
      "Epoch 15/20\n",
      "250/250 [==============================] - 33s 134ms/step - loss: 0.0256 - accuracy: 0.9927 - val_loss: 0.0349 - val_accuracy: 0.9915\n",
      "Epoch 16/20\n",
      "250/250 [==============================] - 34s 135ms/step - loss: 0.0167 - accuracy: 0.9959 - val_loss: 0.0313 - val_accuracy: 0.9915\n",
      "Epoch 17/20\n",
      "250/250 [==============================] - 34s 134ms/step - loss: 0.0158 - accuracy: 0.9952 - val_loss: 0.0313 - val_accuracy: 0.9915\n",
      "Epoch 18/20\n",
      "250/250 [==============================] - 33s 133ms/step - loss: 0.0188 - accuracy: 0.9949 - val_loss: 0.0353 - val_accuracy: 0.9915\n",
      "Epoch 19/20\n",
      "250/250 [==============================] - 34s 134ms/step - loss: 0.0228 - accuracy: 0.9935 - val_loss: 0.0339 - val_accuracy: 0.9920\n",
      "Epoch 20/20\n",
      "250/250 [==============================] - 32s 130ms/step - loss: 0.0235 - accuracy: 0.9934 - val_loss: 0.0183 - val_accuracy: 0.9955\n"
     ]
    },
    {
     "data": {
      "text/plain": [
       "<keras.src.callbacks.History at 0x78604841bf10>"
      ]
     },
     "execution_count": 28,
     "metadata": {},
     "output_type": "execute_result"
    }
   ],
   "source": [
    "alexNet_model.fit(X_train, y_train, batch_size=32, epochs=20, validation_split=0.2)"
   ]
  },
  {
   "cell_type": "markdown",
   "metadata": {},
   "source": [
    "## Evaluation of Model 2"
   ]
  },
  {
   "cell_type": "code",
   "execution_count": 29,
   "metadata": {
    "colab": {
     "base_uri": "https://localhost:8080/"
    },
    "id": "7wbtGtZEtWl5",
    "outputId": "38c17815-64f0-4295-8432-320abccb2ba3"
   },
   "outputs": [
    {
     "name": "stdout",
     "output_type": "stream",
     "text": [
      "63/63 [==============================] - 2s 28ms/step - loss: 0.0579 - accuracy: 0.9890\n"
     ]
    },
    {
     "data": {
      "text/plain": [
       "(0.057880401611328125, 0.9890000224113464)"
      ]
     },
     "execution_count": 29,
     "metadata": {},
     "output_type": "execute_result"
    }
   ],
   "source": [
    "loss_alex, accuracy_alex = alexNet_model.evaluate(X_test, y_test)\n",
    "loss_alex, accuracy_alex"
   ]
  }
 ],
 "metadata": {
  "accelerator": "GPU",
  "colab": {
   "gpuType": "T4",
   "provenance": []
  },
  "kernelspec": {
   "display_name": "Python 3 (ipykernel)",
   "language": "python",
   "name": "python3"
  },
  "language_info": {
   "codemirror_mode": {
    "name": "ipython",
    "version": 3
   },
   "file_extension": ".py",
   "mimetype": "text/x-python",
   "name": "python",
   "nbconvert_exporter": "python",
   "pygments_lexer": "ipython3",
   "version": "3.10.9"
  }
 },
 "nbformat": 4,
 "nbformat_minor": 1
}
